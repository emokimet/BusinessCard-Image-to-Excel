{
  "cells": [
    {
      "cell_type": "markdown",
      "metadata": {
        "colab_type": "text",
        "id": "view-in-github"
      },
      "source": [
        "<a href=\"https://colab.research.google.com/github/soiqualang/Python-tool-OCR-text-extract-from-image-to-excel/blob/master/ocr_text_extract_test.ipynb\" target=\"_parent\"><img src=\"https://colab.research.google.com/assets/colab-badge.svg\" alt=\"Open In Colab\"/></a>"
      ]
    },
    {
      "cell_type": "markdown",
      "metadata": {
        "colab_type": "text",
        "id": "Xvdqn__Po183"
      },
      "source": [
        "https://github.com/KananVyas/BoxDetection"
      ]
    },
    {
      "cell_type": "code",
      "execution_count": null,
      "metadata": {
        "colab": {
          "base_uri": "https://localhost:8080/",
          "height": 102
        },
        "colab_type": "code",
        "id": "oAnuQsZ5k4jz",
        "outputId": "e34c1264-d65a-4cff-bdc6-640d90ee667c"
      },
      "outputs": [
        {
          "name": "stdout",
          "output_type": "stream",
          "text": [
            "Reading image..\n",
            "Storing binary image to Images/Image_bin.jpg..\n",
            "Applying Morphological Operations..\n",
            "Binary image which only contains boxes: Images/img_final_bin.jpg\n",
            "Output stored in Output directiory!\n"
          ]
        }
      ],
      "source": [
        "import cv2\n",
        "import numpy as np\n",
        "\n",
        "def sort_contours(cnts, method=\"left-to-right\"):\n",
        "    # initialize the reverse flag and sort index\n",
        "    reverse = False\n",
        "    i = 0\n",
        "\n",
        "    # handle if we need to sort in reverse\n",
        "    if method == \"right-to-left\" or method == \"bottom-to-top\":\n",
        "        reverse = True\n",
        "\n",
        "    # handle if we are sorting against the y-coordinate rather than\n",
        "    # the x-coordinate of the bounding box\n",
        "    if method == \"top-to-bottom\" or method == \"bottom-to-top\":\n",
        "        i = 1\n",
        "\n",
        "    # construct the list of bounding boxes and sort them from top to\n",
        "    # bottom\n",
        "    boundingBoxes = [cv2.boundingRect(c) for c in cnts]\n",
        "    (cnts, boundingBoxes) = zip(*sorted(zip(cnts, boundingBoxes),\n",
        "                                        key=lambda b: b[1][i], reverse=reverse))\n",
        "\n",
        "    # return the list of sorted contours and bounding boxes\n",
        "    return (cnts, boundingBoxes)\n",
        "\n",
        "\n",
        "#Functon for extracting the box\n",
        "def box_extraction(img_for_box_extraction_path, cropped_dir_path):\n",
        "\n",
        "    print(\"Reading image..\")\n",
        "    img = cv2.imread(img_for_box_extraction_path, 0)  # Read the image\n",
        "    (thresh, img_bin) = cv2.threshold(img, 128, 255,\n",
        "                                      cv2.THRESH_BINARY | cv2.THRESH_OTSU)  # Thresholding the image\n",
        "    img_bin = 255-img_bin  # Invert the image\n",
        "\n",
        "    print(\"Storing binary image to Images/Image_bin.jpg..\")\n",
        "    cv2.imwrite(\"Images/Image_bin.jpg\",img_bin)\n",
        "\n",
        "    print(\"Applying Morphological Operations..\")\n",
        "    # Defining a kernel length\n",
        "    kernel_length = np.array(img).shape[1]//40\n",
        "     \n",
        "    # A verticle kernel of (1 X kernel_length), which will detect all the verticle lines from the image.\n",
        "    verticle_kernel = cv2.getStructuringElement(cv2.MORPH_RECT, (1, kernel_length))\n",
        "    # A horizontal kernel of (kernel_length X 1), which will help to detect all the horizontal line from the image.\n",
        "    hori_kernel = cv2.getStructuringElement(cv2.MORPH_RECT, (kernel_length, 1))\n",
        "    # A kernel of (3 X 3) ones.\n",
        "    kernel = cv2.getStructuringElement(cv2.MORPH_RECT, (3, 3))\n",
        "\n",
        "    # Morphological operation to detect verticle lines from an image\n",
        "    img_temp1 = cv2.erode(img_bin, verticle_kernel, iterations=3)\n",
        "    verticle_lines_img = cv2.dilate(img_temp1, verticle_kernel, iterations=3)\n",
        "    cv2.imwrite(\"Images/verticle_lines.jpg\",verticle_lines_img)\n",
        "\n",
        "    # Morphological operation to detect horizontal lines from an image\n",
        "    img_temp2 = cv2.erode(img_bin, hori_kernel, iterations=3)\n",
        "    horizontal_lines_img = cv2.dilate(img_temp2, hori_kernel, iterations=3)\n",
        "    cv2.imwrite(\"Images/horizontal_lines.jpg\",horizontal_lines_img)\n",
        "\n",
        "    # Weighting parameters, this will decide the quantity of an image to be added to make a new image.\n",
        "    alpha = 0.5\n",
        "    beta = 1.0 - alpha\n",
        "    # This function helps to add two image with specific weight parameter to get a third image as summation of two image.\n",
        "    img_final_bin = cv2.addWeighted(verticle_lines_img, alpha, horizontal_lines_img, beta, 0.0)\n",
        "    img_final_bin = cv2.erode(~img_final_bin, kernel, iterations=2)\n",
        "    (thresh, img_final_bin) = cv2.threshold(img_final_bin, 128, 255, cv2.THRESH_BINARY | cv2.THRESH_OTSU)\n",
        "\n",
        "    # For Debugging\n",
        "    # Enable this line to see verticle and horizontal lines in the image which is used to find boxes\n",
        "    print(\"Binary image which only contains boxes: Images/img_final_bin.jpg\")\n",
        "    cv2.imwrite(\"Images/img_final_bin.jpg\",img_final_bin)\n",
        "    # Find contours for image, which will detect all the boxes\n",
        "    contours, hierarchy = cv2.findContours(\n",
        "        img_final_bin, cv2.RETR_TREE, cv2.CHAIN_APPROX_SIMPLE)\n",
        "    # Sort all the contours by top to bottom.\n",
        "    (contours, boundingBoxes) = sort_contours(contours, method=\"top-to-bottom\")\n",
        "\n",
        "    print(\"Output stored in Output directiory!\")\n",
        "\n",
        "    idx = 0\n",
        "    for c in contours:\n",
        "        # Returns the location and width,height for every contour\n",
        "        x, y, w, h = cv2.boundingRect(c)\n",
        "\n",
        "        # If the box height is greater then 20, widht is >80, then only save it as a box in \"cropped/\" folder.\n",
        "        if (w > 80 and h > 20) and w > 3*h:\n",
        "            idx += 1\n",
        "            new_img = img[y:y+h, x:x+w]\n",
        "            cv2.imwrite(cropped_dir_path+str(idx) + '.png', new_img)\n",
        "\n",
        "    # For Debugging\n",
        "    # Enable this line to see all contours.\n",
        "    # cv2.drawContours(img, contours, -1, (0, 0, 255), 3)\n",
        "    # cv2.imwrite(\"./Temp/img_contour.jpg\", img)\n",
        "\n",
        "\n",
        "\n",
        "#Input image path and out folder\n",
        "box_extraction(\"result.png\", \"Output/\")"
      ]
    },
    {
      "cell_type": "code",
      "execution_count": null,
      "metadata": {
        "colab": {
          "base_uri": "https://localhost:8080/",
          "height": 289
        },
        "colab_type": "code",
        "id": "MSejbJealtqt",
        "outputId": "081bab0c-3b96-48e9-e412-ad31a1594dec"
      },
      "outputs": [
        {
          "name": "stdout",
          "output_type": "stream",
          "text": [
            "--2020-07-08 08:52:27--  https://github.com/KananVyas/BoxDetection/raw/master/41.jpg\n",
            "Resolving github.com (github.com)... 192.30.255.113\n",
            "Connecting to github.com (github.com)|192.30.255.113|:443... connected.\n",
            "HTTP request sent, awaiting response... 302 Found\n",
            "Location: https://raw.githubusercontent.com/KananVyas/BoxDetection/master/41.jpg [following]\n",
            "--2020-07-08 08:52:28--  https://raw.githubusercontent.com/KananVyas/BoxDetection/master/41.jpg\n",
            "Resolving raw.githubusercontent.com (raw.githubusercontent.com)... 151.101.0.133, 151.101.64.133, 151.101.128.133, ...\n",
            "Connecting to raw.githubusercontent.com (raw.githubusercontent.com)|151.101.0.133|:443... connected.\n",
            "HTTP request sent, awaiting response... 200 OK\n",
            "Length: 85308 (83K) [image/jpeg]\n",
            "Saving to: ‘41.jpg’\n",
            "\n",
            "41.jpg              100%[===================>]  83.31K  --.-KB/s    in 0.02s   \n",
            "\n",
            "2020-07-08 08:52:28 (4.52 MB/s) - ‘41.jpg’ saved [85308/85308]\n",
            "\n"
          ]
        }
      ],
      "source": [
        "!wget https://github.com/KananVyas/BoxDetection/raw/master/41.jpg"
      ]
    },
    {
      "cell_type": "code",
      "execution_count": null,
      "metadata": {
        "colab": {},
        "colab_type": "code",
        "id": "ouJtMiKroEre"
      },
      "outputs": [],
      "source": [
        "!rm -r sample_data/"
      ]
    },
    {
      "cell_type": "code",
      "execution_count": null,
      "metadata": {
        "colab": {},
        "colab_type": "code",
        "id": "WeEMylgMoVCO"
      },
      "outputs": [],
      "source": []
    },
    {
      "cell_type": "code",
      "execution_count": null,
      "metadata": {
        "colab": {},
        "colab_type": "code",
        "id": "-KTd2TmNpA5x"
      },
      "outputs": [],
      "source": []
    },
    {
      "cell_type": "code",
      "execution_count": null,
      "metadata": {
        "colab": {},
        "colab_type": "code",
        "id": "e7bm2HT6pA1m"
      },
      "outputs": [],
      "source": []
    },
    {
      "cell_type": "markdown",
      "metadata": {
        "colab_type": "text",
        "id": "ORd5S-YRpCiC"
      },
      "source": [
        "https://towardsdatascience.com/a-table-detection-cell-recognition-and-text-extraction-algorithm-to-convert-tables-to-excel-files-902edcf289ec\n",
        "\n",
        "https://stackoverflow.com/questions/50951955/pytesseract-tesseractnotfound-error-tesseract-is-not-installed-or-its-not-i"
      ]
    },
    {
      "cell_type": "code",
      "execution_count": null,
      "metadata": {
        "colab": {},
        "colab_type": "code",
        "id": "pitiqpSBpgLG"
      },
      "outputs": [],
      "source": [
        "!pip install pytesseract"
      ]
    },
    {
      "cell_type": "code",
      "execution_count": null,
      "metadata": {
        "colab": {},
        "colab_type": "code",
        "id": "WyYM370ap7OW"
      },
      "outputs": [],
      "source": [
        "# !sudo apt-get update\n",
        "# !sudo apt-get install libleptonica-dev \n",
        "# !sudo apt-get install tesseract-ocr tesseract-ocr-dev\n",
        "# !sudo apt-get install libtesseract-dev"
      ]
    },
    {
      "cell_type": "code",
      "execution_count": null,
      "metadata": {
        "colab": {},
        "colab_type": "code",
        "id": "EJ_j1u_UrtTf"
      },
      "outputs": [],
      "source": [
        "!sudo apt install tesseract-ocr\n",
        "!sudo apt install libtesseract-dev"
      ]
    },
    {
      "cell_type": "code",
      "execution_count": null,
      "metadata": {
        "colab": {},
        "colab_type": "code",
        "id": "LutDvR6RqGj2"
      },
      "outputs": [],
      "source": [
        "!pip install tesseract\n",
        "!pip install tesseract-ocr"
      ]
    },
    {
      "cell_type": "code",
      "execution_count": null,
      "metadata": {
        "colab": {
          "base_uri": "https://localhost:8080/",
          "height": 255
        },
        "colab_type": "code",
        "id": "LlZAkpbkrQx3",
        "outputId": "2675cff2-2a89-4d91-af3e-c327ee06dddc"
      },
      "outputs": [
        {
          "name": "stdout",
          "output_type": "stream",
          "text": [
            "Usage:\n",
            "  tesseract --help | --help-extra | --version\n",
            "  tesseract --list-langs\n",
            "  tesseract imagename outputbase [options...] [configfile...]\n",
            "\n",
            "OCR options:\n",
            "  -l LANG[+LANG]        Specify language(s) used for OCR.\n",
            "NOTE: These options must occur before any configfile.\n",
            "\n",
            "Single options:\n",
            "  --help                Show this help message.\n",
            "  --help-extra          Show extra help for advanced users.\n",
            "  --version             Show version information.\n",
            "  --list-langs          List available languages for tesseract engine.\n"
          ]
        }
      ],
      "source": [
        "!tesseract"
      ]
    },
    {
      "cell_type": "code",
      "execution_count": null,
      "metadata": {
        "colab": {
          "base_uri": "https://localhost:8080/",
          "height": 1000
        },
        "colab_type": "code",
        "id": "eMVCUhyLpAy-",
        "outputId": "635d510e-6449-409a-d384-121cd47d8daa"
      },
      "outputs": [],
      "source": [
        "import cv2\n",
        "import numpy as np\n",
        "import pandas as pd\n",
        "import matplotlib.pyplot as plt\n",
        "import csv\n",
        "\n",
        "try:\n",
        "    from PIL import Image\n",
        "except ImportError:\n",
        "    import Image\n",
        "import pytesseract\n",
        "\n",
        "#read your file\n",
        "file=r'result.png'\n",
        "img = cv2.imread(file,0)\n",
        "img.shape\n",
        "\n",
        "#thresholding the image to a binary image\n",
        "thresh,img_bin = cv2.threshold(img,128,255,cv2.THRESH_BINARY | cv2.THRESH_OTSU)\n",
        "\n",
        "#inverting the image \n",
        "img_bin = 255-img_bin\n",
        "cv2.imwrite('cv_inverted.png',img_bin)\n",
        "#Plotting the image to see the output\n",
        "plotting = plt.imshow(img_bin,cmap='gray')\n",
        "plt.show()\n",
        "\n",
        "# countcol(width) of kernel as 100th of total width\n",
        "kernel_len = np.array(img).shape[1]//100\n",
        "# Defining a vertical kernel to detect all vertical lines of image \n",
        "ver_kernel = cv2.getStructuringElement(cv2.MORPH_RECT, (1, kernel_len))\n",
        "# Defining a horizontal kernel to detect all horizontal lines of image\n",
        "hor_kernel = cv2.getStructuringElement(cv2.MORPH_RECT, (kernel_len, 1))\n",
        "# A kernel of 2x2\n",
        "kernel = cv2.getStructuringElement(cv2.MORPH_RECT, (2, 2))\n",
        "\n",
        "#Use vertical kernel to detect and save the vertical lines in a jpg\n",
        "image_1 = cv2.erode(img_bin, ver_kernel, iterations=3)\n",
        "vertical_lines = cv2.dilate(image_1, ver_kernel, iterations=3)\n",
        "cv2.imwrite(\"vertical.jpg\",vertical_lines)\n",
        "#Plot the generated image\n",
        "plotting = plt.imshow(image_1,cmap='gray')\n",
        "plt.show()\n",
        "\n",
        "#Use horizontal kernel to detect and save the horizontal lines in a jpg\n",
        "image_2 = cv2.erode(img_bin, hor_kernel, iterations=3)\n",
        "horizontal_lines = cv2.dilate(image_2, hor_kernel, iterations=3)\n",
        "cv2.imwrite(\"horizontal.jpg\",horizontal_lines)\n",
        "#Plot the generated image\n",
        "plotting = plt.imshow(image_2,cmap='gray')\n",
        "plt.show()\n",
        "\n",
        "# Combine horizontal and vertical lines in a new third image, with both having same weight.\n",
        "img_vh = cv2.addWeighted(vertical_lines, 0.5, horizontal_lines, 0.5, 0.0)\n",
        "#Eroding and thesholding the image\n",
        "img_vh = cv2.erode(~img_vh, kernel, iterations=2)\n",
        "thresh, img_vh = cv2.threshold(img_vh,128,255, cv2.THRESH_BINARY | cv2.THRESH_OTSU)\n",
        "cv2.imwrite(\"img_vh.jpg\", img_vh)\n",
        "bitxor = cv2.bitwise_xor(img,img_vh)\n",
        "bitnot = cv2.bitwise_not(bitxor)\n",
        "#Plotting the generated image\n",
        "plotting = plt.imshow(bitnot,cmap='gray')\n",
        "plt.show()\n",
        "\n",
        "# Detect contours for following box detection\n",
        "contours, hierarchy = cv2.findContours(img_vh, cv2.RETR_TREE, cv2.CHAIN_APPROX_SIMPLE)\n",
        "\n",
        "def sort_contours(cnts, method=\"left-to-right\"):\n",
        "    # initialize the reverse flag and sort index\n",
        "    reverse = False\n",
        "    i = 0\n",
        "    # handle if we need to sort in reverse\n",
        "    if method == \"right-to-left\" or method == \"bottom-to-top\":\n",
        "        reverse = True\n",
        "    # handle if we are sorting against the y-coordinate rather than\n",
        "    # the x-coordinate of the bounding box\n",
        "    if method == \"top-to-bottom\" or method == \"bottom-to-top\":\n",
        "        i = 1\n",
        "    # construct the list of bounding boxes and sort them from top to\n",
        "    # bottom\n",
        "    boundingBoxes = [cv2.boundingRect(c) for c in cnts]\n",
        "    (cnts, boundingBoxes) = zip(*sorted(zip(cnts, boundingBoxes),\n",
        "    key=lambda b:b[1][i], reverse=reverse))\n",
        "    # return the list of sorted contours and bounding boxes\n",
        "    return (cnts, boundingBoxes)\n",
        "\n",
        "# Sort all the contours by top to bottom.\n",
        "contours, boundingBoxes = sort_contours(contours, method=\"top-to-bottom\")\n",
        "\n",
        "#Creating a list of heights for all detected boxes\n",
        "heights = [boundingBoxes[i][3] for i in range(len(boundingBoxes))]\n",
        "\n",
        "#Get mean of heights\n",
        "mean = np.mean(heights)\n",
        "\n",
        "#Create list box to store all boxes in  \n",
        "box = []\n",
        "# Get position (x,y), width and height for every contour and show the contour on image\n",
        "for c in contours:\n",
        "    x, y, w, h = cv2.boundingRect(c)\n",
        "    if (w<1000 and h<500):\n",
        "        image = cv2.rectangle(img,(x,y),(x+w,y+h),(0,255,0),2)\n",
        "        box.append([x,y,w,h])\n",
        "        \n",
        "plotting = plt.imshow(image,cmap='gray')\n",
        "plt.show()\n",
        "\n",
        "#Creating two lists to define row and column in which cell is located\n",
        "row=[]\n",
        "column=[]\n",
        "j=0\n",
        "\n",
        "#Sorting the boxes to their respective row and column\n",
        "for i in range(len(box)):    \n",
        "        \n",
        "    if(i==0):\n",
        "        column.append(box[i])\n",
        "        previous=box[i]    \n",
        "    \n",
        "    else:\n",
        "        if(box[i][1]<=previous[1]+mean/2):\n",
        "            column.append(box[i])\n",
        "            previous=box[i]            \n",
        "            \n",
        "            if(i==len(box)-1):\n",
        "                row.append(column)        \n",
        "            \n",
        "        else:\n",
        "            row.append(column)\n",
        "            column=[]\n",
        "            previous = box[i]\n",
        "            column.append(box[i])\n",
        "            \n",
        "print(column)\n",
        "print(row)\n",
        "\n",
        "#calculating maximum number of cells\n",
        "countcol = 0\n",
        "for i in range(len(row)):\n",
        "    countcol = len(row[i])\n",
        "    if countcol > countcol:\n",
        "        countcol = countcol\n",
        "\n",
        "#Retrieving the center of each column\n",
        "center = [int(row[i][j][0]+row[i][j][2]/2) for j in range(len(row[i])) if row[0]]\n",
        "\n",
        "center=np.array(center)\n",
        "center.sort()\n",
        "print(center)\n",
        "#Regarding the distance to the columns center, the boxes are arranged in respective order\n",
        "\n",
        "finalboxes = []\n",
        "for i in range(len(row)):\n",
        "    lis=[]\n",
        "    for k in range(countcol):\n",
        "        lis.append([])\n",
        "    for j in range(len(row[i])):\n",
        "        diff = abs(center-(row[i][j][0]+row[i][j][2]/4))\n",
        "        minimum = min(diff)\n",
        "        indexing = list(diff).index(minimum)\n",
        "        lis[indexing].append(row[i][j])\n",
        "    finalboxes.append(lis)\n",
        "\n",
        "\n",
        "#from every single image-based cell/box the strings are extracted via pytesseract and stored in a list\n",
        "outer=[]\n",
        "for i in range(len(finalboxes)):\n",
        "    for j in range(len(finalboxes[i])):\n",
        "        inner=''\n",
        "        if(len(finalboxes[i][j])==0):\n",
        "            outer.append(' ')\n",
        "        else:\n",
        "            for k in range(len(finalboxes[i][j])):\n",
        "                y,x,w,h = finalboxes[i][j][k][0],finalboxes[i][j][k][1], finalboxes[i][j][k][2],finalboxes[i][j][k][3]\n",
        "                finalimg = bitnot[x:x+h, y:y+w]\n",
        "                kernel = cv2.getStructuringElement(cv2.MORPH_RECT, (2, 1))\n",
        "                border = cv2.copyMakeBorder(finalimg,2,2,2,2, cv2.BORDER_CONSTANT,value=[255,255])\n",
        "                resizing = cv2.resize(border, None, fx=2, fy=2, interpolation=cv2.INTER_CUBIC)\n",
        "                dilation = cv2.dilate(resizing, kernel,iterations=1)\n",
        "                erosion = cv2.erode(dilation, kernel,iterations=2)\n",
        "                \n",
        "                out = pytesseract.image_to_string(erosion)\n",
        "                if(len(out)==0):\n",
        "                    out = pytesseract.image_to_string(erosion, config='--psm 3')\n",
        "                inner = inner +\" \"+ out\n",
        "            outer.append(inner)\n",
        "\n",
        "#Creating a dataframe of the generated OCR list\n",
        "arr = np.array(outer)\n",
        "dataframe = pd.DataFrame(arr.reshape(len(row), countcol))\n",
        "print(dataframe)\n",
        "data = dataframe.style.set_properties(align=\"left\")\n",
        "#Converting it in a excel-file\n",
        "data.to_excel(\"output.xlsx\")"
      ]
    }
  ],
  "metadata": {
    "colab": {
      "authorship_tag": "ABX9TyNmKlGBFBSMji4K0xhEQHvS",
      "collapsed_sections": [],
      "include_colab_link": true,
      "name": "ocr_text_extract_test.ipynb",
      "provenance": []
    },
    "kernelspec": {
      "display_name": "Python 3",
      "name": "python3"
    }
  },
  "nbformat": 4,
  "nbformat_minor": 0
}
